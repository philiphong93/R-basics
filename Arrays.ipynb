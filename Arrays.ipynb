{
 "metadata": {
  "name": ""
 },
 "nbformat": 3,
 "nbformat_minor": 0,
 "worksheets": [
  {
   "cells": [
    {
     "cell_type": "heading",
     "level": 1,
     "metadata": {},
     "source": [
      "Arrays"
     ]
    },
    {
     "cell_type": "markdown",
     "metadata": {},
     "source": [
      "**Definition:** A *multidimensional array* $A$ of *dimension* $d$ is a collection of individual data points indexed by $n$ numbers: i.e., an individual data point is denoted by \n",
      "\n",
      "$$A[i_1, i_2, \\dots, i_d]$$\n",
      "\n",
      "where $i_l = 1,\\dots, n_l$ is the index corresponding to the $l$ axis, and where $n_l$ is the number of data points stored along the $l$ axis. \n",
      "\n",
      "The *shape* of an array is the tuple\n",
      "\n",
      "$$(n_1,\\dots,n_d).$$"
     ]
    },
    {
     "cell_type": "markdown",
     "metadata": {},
     "source": [
      "**Remark 1:** The dimension above is different from the notion of dimension in linear algebra, which is the number of entries in the array (i.e. $n_1n_2\\dots n_d$).\n",
      "\n",
      "**Remark 2:** The dimension in the definition above emphasis the fact that a multidimensional array of dimension $d$ can be geometrically regarded as a $d$ dimensinal cube of numbers sitting in $\\mathbb R^d$."
     ]
    },
    {
     "cell_type": "markdown",
     "metadata": {},
     "source": [
      "\n",
      "![data cube 2](http://www.oracle.com/ocom/groups/public/%40otn/documents/digitalasset/105005.gif)\n",
      "\n"
     ]
    },
    {
     "cell_type": "code",
     "collapsed": false,
     "input": [
      "%load_ext rmagic"
     ],
     "language": "python",
     "metadata": {},
     "outputs": [],
<<<<<<< HEAD
     "prompt_number": 2
=======
     "prompt_number": 1
>>>>>>> 8029e87ef507738315868c029fb62a71942b2f9f
    },
    {
     "cell_type": "heading",
     "level": 2,
     "metadata": {},
     "source": [
      "Numerical arrays"
     ]
    },
    {
     "cell_type": "code",
     "collapsed": false,
     "input": [
      "%%R\n",
      "\n",
      "dim(x) = c(2,3,3)\n",
      "print(class(x))\n",
      "print(dim(x))\n",
      "print(x)"
     ],
     "language": "python",
     "metadata": {},
     "outputs": [
      {
       "output_type": "stream",
       "stream": "stdout",
       "text": [
        "Error in dim(x) = c(2, 3, 3) : object 'x' not found\n"
       ]
      }
     ],
     "prompt_number": 3
    },
    {
     "cell_type": "code",
     "collapsed": false,
     "input": [
      "%%R\n",
      "\n",
      "x = sample(18); dim(x) = c(2,3,3)\n",
      "y = sample(18); dim(y) = c(2,3,3)\n",
      "\n"
     ],
     "language": "python",
     "metadata": {},
     "outputs": [],
     "prompt_number": 4
    },
    {
     "cell_type": "code",
     "collapsed": false,
     "input": [
      "%%R\n",
      "\n",
      "z = x + y\n",
      "z = x * y\n",
      "z = x ^ y\n"
     ],
     "language": "python",
     "metadata": {},
     "outputs": [],
     "prompt_number": 5
    },
    {
     "cell_type": "code",
     "collapsed": false,
     "input": [
      "%%R\n",
      "\n",
      "print(z)"
     ],
     "language": "python",
     "metadata": {},
     "outputs": [
      {
       "metadata": {},
       "output_type": "display_data",
       "text": [
        ", , 1\n",
        "\n",
        "             [,1]     [,2]         [,3]\n",
        "[1,]     62748517    20736 4.177248e+15\n",
        "[2,] 100000000000 16777216 5.669391e+13\n",
        "\n",
        ", , 2\n",
        "\n",
        "        [,1]         [,2]         [,3]\n",
        "[1,] 1594323 6.103516e+09 6.400000e+01\n",
        "[2,]      49 4.722366e+21 1.692666e+13\n",
        "\n",
        ", , 3\n",
        "\n",
        "     [,1]     [,2]         [,3]\n",
        "[1,]    1        9 2.015994e+12\n",
        "[2,]   32 34012224 3.844336e+10\n",
        "\n"
       ]
      }
     ],
     "prompt_number": 6
    },
    {
     "cell_type": "heading",
     "level": 2,
     "metadata": {},
     "source": [
      "Boolean arrays"
     ]
    },
    {
     "cell_type": "code",
     "collapsed": false,
     "input": [
      "%%R\n",
      "\n",
      "x = sample(c(T,F), 18, replace=T)\n",
      "y = sample(c(T,F), 18, replace=T)\n",
      "print(y)"
     ],
     "language": "python",
     "metadata": {},
     "outputs": [
      {
       "metadata": {},
       "output_type": "display_data",
       "text": [
        " [1]  TRUE FALSE FALSE  TRUE FALSE  TRUE FALSE FALSE FALSE  TRUE FALSE FALSE\n",
        "[13]  TRUE  TRUE  TRUE FALSE FALSE  TRUE\n"
       ]
      }
     ],
     "prompt_number": 7
    },
    {
     "cell_type": "code",
     "collapsed": false,
     "input": [
      "%%R\n",
      "\n",
      "dim(x) = c(2,3,3)\n",
      "dim(y) = c(2,3,3)\n",
      "\n",
      "print(x | y) # Python Or\n",
      "print(x & y) # Python And\n",
      "print(!x)    # Python Not"
     ],
     "language": "python",
     "metadata": {},
     "outputs": [
      {
       "metadata": {},
       "output_type": "display_data",
       "text": [
        ", , 1\n",
        "\n",
        "      [,1] [,2]  [,3]\n",
        "[1,]  TRUE TRUE FALSE\n",
        "[2,] FALSE TRUE  TRUE\n",
        "\n",
        ", , 2\n",
        "\n",
        "      [,1] [,2] [,3]\n",
        "[1,] FALSE TRUE TRUE\n",
        "[2,]  TRUE TRUE TRUE\n",
        "\n",
        ", , 3\n",
        "\n",
        "     [,1]  [,2] [,3]\n",
        "[1,] TRUE  TRUE TRUE\n",
        "[2,] TRUE FALSE TRUE\n",
        "\n",
        ", , 1\n",
        "\n",
        "      [,1]  [,2]  [,3]\n",
        "[1,] FALSE FALSE FALSE\n",
        "[2,] FALSE FALSE FALSE\n",
        "\n",
        ", , 2\n",
        "\n",
        "      [,1]  [,2]  [,3]\n",
        "[1,] FALSE FALSE FALSE\n",
        "[2,] FALSE  TRUE FALSE\n",
        "\n",
        ", , 3\n",
        "\n",
        "      [,1]  [,2]  [,3]\n",
        "[1,] FALSE  TRUE FALSE\n",
        "[2,]  TRUE FALSE  TRUE\n",
        "\n",
        ", , 1\n",
        "\n",
        "     [,1]  [,2] [,3]\n",
        "[1,] TRUE FALSE TRUE\n",
        "[2,] TRUE  TRUE TRUE\n",
        "\n",
        ", , 2\n",
        "\n",
        "      [,1]  [,2]  [,3]\n",
        "[1,]  TRUE FALSE FALSE\n",
        "[2,] FALSE FALSE FALSE\n",
        "\n",
        ", , 3\n",
        "\n",
        "      [,1]  [,2]  [,3]\n",
        "[1,]  TRUE FALSE FALSE\n",
        "[2,] FALSE  TRUE FALSE\n",
        "\n"
       ]
      }
     ],
     "prompt_number": 8
    },
    {
     "cell_type": "heading",
     "level": 2,
     "metadata": {},
     "source": [
      "Character arrrays"
     ]
    },
    {
     "cell_type": "code",
     "collapsed": false,
     "input": [
      "%%R\n",
      "\n",
      "x = sample(c('A','C','G','T'), 18, replace=T)\n",
      "y = sample(c('A','C','G','T'), 18, replace=T)\n",
      "\n",
      "print(x)"
     ],
     "language": "python",
     "metadata": {},
     "outputs": [
      {
       "metadata": {},
       "output_type": "display_data",
       "text": [
        " [1] \"A\" \"G\" \"C\" \"A\" \"A\" \"A\" \"T\" \"T\" \"T\" \"G\" \"T\" \"C\" \"A\" \"C\" \"C\" \"C\" \"T\" \"G\"\n"
       ]
      }
     ],
     "prompt_number": 9
    },
    {
     "cell_type": "code",
     "collapsed": false,
     "input": [
      "%%R\n",
      "\n",
      "dim(x) = c(2,3,3)\n",
      "dim(y) = c(2,3,3)"
     ],
     "language": "python",
     "metadata": {},
     "outputs": [],
     "prompt_number": 10
    },
    {
     "cell_type": "code",
     "collapsed": false,
     "input": [
      "%%R\n",
      "\n",
      "z = paste(x, y, sep='')\n",
      "print(z)"
     ],
     "language": "python",
     "metadata": {},
     "outputs": [
      {
       "metadata": {},
       "output_type": "display_data",
       "text": [
        " [1] \"AC\" \"GT\" \"CA\" \"AA\" \"AT\" \"AG\" \"TG\" \"TA\" \"TG\" \"GG\" \"TC\" \"CA\" \"AT\" \"CG\" \"CG\"\n",
        "[16] \"CC\" \"TC\" \"GT\"\n"
       ]
      }
     ],
     "prompt_number": 11
    },
    {
     "cell_type": "code",
     "collapsed": false,
     "input": [
      "%%R\n",
      "\n",
      "dim(z) = c(2,3,3)\n",
      "\n",
      "print(z)"
     ],
     "language": "python",
     "metadata": {},
     "outputs": [
      {
       "metadata": {},
       "output_type": "display_data",
       "text": [
        ", , 1\n",
        "\n",
        "     [,1] [,2] [,3]\n",
        "[1,] \"AC\" \"CA\" \"AT\"\n",
        "[2,] \"GT\" \"AA\" \"AG\"\n",
        "\n",
        ", , 2\n",
        "\n",
        "     [,1] [,2] [,3]\n",
        "[1,] \"TG\" \"TG\" \"TC\"\n",
        "[2,] \"TA\" \"GG\" \"CA\"\n",
        "\n",
        ", , 3\n",
        "\n",
        "     [,1] [,2] [,3]\n",
        "[1,] \"AT\" \"CG\" \"TC\"\n",
        "[2,] \"CG\" \"CC\" \"GT\"\n",
        "\n"
       ]
      }
     ],
     "prompt_number": 12
    },
    {
     "cell_type": "heading",
     "level": 2,
     "metadata": {},
     "source": [
      "Subsetting"
     ]
    },
    {
     "cell_type": "code",
     "collapsed": false,
     "input": [
      "%%R\n",
      "\n",
      "A = sample(64)\n",
      "dim(A) = c(8, 8)\n",
      "print(class(A))\n",
      "print(A)"
     ],
     "language": "python",
     "metadata": {},
<<<<<<< HEAD
     "outputs": [],
     "prompt_number": 12
=======
     "outputs": [
      {
       "metadata": {},
       "output_type": "display_data",
       "text": [
        "[1] \"matrix\"\n",
        "     [,1] [,2] [,3] [,4] [,5] [,6] [,7] [,8]\n",
        "[1,]   13    1   26   27   62   41   14    4\n",
        "[2,]   30   50   60   17    5   59   25   38\n",
        "[3,]   33   29   22   48   24   42   19   34\n",
        "[4,]   40   23    2   10   52   11   37   20\n",
        "[5,]   39    3   44    6   18   55   16   56\n",
        "[6,]   43   57    9   12   54   21   35   45\n",
        "[7,]   47   31   61   51   46   53   49   28\n",
        "[8,]    8   64   58   15    7   63   32   36\n"
       ]
      }
     ],
     "prompt_number": 5
    },
    {
     "cell_type": "code",
     "collapsed": false,
     "input": [
      "%%R\n",
      "\n",
      "print(A[2,3])"
     ],
     "language": "python",
     "metadata": {},
     "outputs": [
      {
       "metadata": {},
       "output_type": "display_data",
       "text": [
        "[1] 60\n"
       ]
      }
     ],
     "prompt_number": 7
    },
    {
     "cell_type": "code",
     "collapsed": false,
     "input": [
      "%%R\n",
      "\n",
      "print(A[c(4, 1, 5), c(4,2)])"
     ],
     "language": "python",
     "metadata": {},
     "outputs": [
      {
       "metadata": {},
       "output_type": "display_data",
       "text": [
        "     [,1] [,2]\n",
        "[1,]   10   23\n",
        "[2,]   27    1\n",
        "[3,]    6    3\n"
       ]
      }
     ],
     "prompt_number": 11
    },
    {
     "cell_type": "code",
     "collapsed": false,
     "input": [
      "%%R\n",
      "\n",
      "A[c(4,1,5), c(4,2)] = 999\n",
      "print(A)"
     ],
     "language": "python",
     "metadata": {},
     "outputs": [
      {
       "metadata": {},
       "output_type": "display_data",
       "text": [
        "     [,1] [,2] [,3] [,4] [,5] [,6] [,7] [,8]\n",
        "[1,]   13  999   26  999   62   41   14    4\n",
        "[2,]   30   50   60   17    5   59   25   38\n",
        "[3,]   33   29   22   48   24   42   19   34\n",
        "[4,]   40  999    2  999   52   11   37   20\n",
        "[5,]   39  999   44  999   18   55   16   56\n",
        "[6,]   43   57    9   12   54   21   35   45\n",
        "[7,]   47   31   61   51   46   53   49   28\n",
        "[8,]    8   64   58   15    7   63   32   36\n"
       ]
      }
     ],
     "prompt_number": 12
    },
    {
     "cell_type": "code",
     "collapsed": false,
     "input": [
      "%%R\n",
      "\n",
      "ind = (A > 50) & (A < 80)\n",
      "print(ind)"
     ],
     "language": "python",
     "metadata": {},
     "outputs": [
      {
       "metadata": {},
       "output_type": "display_data",
       "text": [
        "      [,1]  [,2]  [,3]  [,4]  [,5]  [,6]  [,7]  [,8]\n",
        "[1,] FALSE FALSE FALSE FALSE  TRUE FALSE FALSE FALSE\n",
        "[2,] FALSE FALSE  TRUE FALSE FALSE  TRUE FALSE FALSE\n",
        "[3,] FALSE FALSE FALSE FALSE FALSE FALSE FALSE FALSE\n",
        "[4,] FALSE FALSE FALSE FALSE  TRUE FALSE FALSE FALSE\n",
        "[5,] FALSE FALSE FALSE FALSE FALSE  TRUE FALSE  TRUE\n",
        "[6,] FALSE  TRUE FALSE FALSE  TRUE FALSE FALSE FALSE\n",
        "[7,] FALSE FALSE  TRUE  TRUE FALSE  TRUE FALSE FALSE\n",
        "[8,] FALSE  TRUE  TRUE FALSE FALSE  TRUE FALSE FALSE\n"
       ]
      }
     ],
     "prompt_number": 17
    },
    {
     "cell_type": "code",
     "collapsed": false,
     "input": [
      "%%R\n",
      "\n",
      "print(A[ind])"
     ],
     "language": "python",
     "metadata": {},
     "outputs": [
      {
       "metadata": {},
       "output_type": "display_data",
       "text": [
        " [1] 57 64 60 61 58 51 62 52 54 59 55 53 63 56\n"
       ]
      }
     ],
     "prompt_number": 18
    },
    {
     "cell_type": "code",
     "collapsed": false,
     "input": [
      "%%R\n",
      "\n",
      "A[ind] = 0\n",
      "\n",
      "print(A)"
     ],
     "language": "python",
     "metadata": {},
     "outputs": [
      {
       "metadata": {},
       "output_type": "display_data",
       "text": [
        "     [,1] [,2] [,3] [,4] [,5] [,6] [,7] [,8]\n",
        "[1,]   13  999   26  999    0   41   14    4\n",
        "[2,]   30   50    0   17    5    0   25   38\n",
        "[3,]   33   29   22   48   24   42   19   34\n",
        "[4,]   40  999    2  999    0   11   37   20\n",
        "[5,]   39  999   44  999   18    0   16    0\n",
        "[6,]   43    0    9   12    0   21   35   45\n",
        "[7,]   47   31    0    0   46    0   49   28\n",
        "[8,]    8    0    0   15    7    0   32   36\n"
       ]
      }
     ],
     "prompt_number": 19
>>>>>>> 8029e87ef507738315868c029fb62a71942b2f9f
    },
    {
     "cell_type": "heading",
     "level": 2,
     "metadata": {},
     "source": [
      "Recycling"
     ]
    },
    {
     "cell_type": "code",
     "collapsed": false,
     "input": [
      "%%R\n",
      "\n",
<<<<<<< HEAD
      "x = c(1, 2, 3, 4)\n",
      "y = 10\n",
      "print(x + y)\n",
      "z = c(1, 2, 0)\n",
      "print(x + z)"
     ],
=======
      "x = c(1,2,3,4)\n",
      "y =1\n"
     ],
     "language": "python",
     "metadata": {},
     "outputs": [],
     "prompt_number": 27
    },
    {
     "cell_type": "code",
     "collapsed": false,
     "input": [
      "%%R\n",
      "\n",
      "z = x + y\n",
      "print(z)"
     ],
     "language": "python",
     "metadata": {},
     "outputs": [
      {
       "metadata": {},
       "output_type": "display_data",
       "text": [
        "[1]  11 102   3  14\n"
       ]
      }
     ],
     "prompt_number": 32
    },
    {
     "cell_type": "code",
     "collapsed": false,
     "input": [
      "%%R\n",
      "\n",
      "x = c(1,    2, 3, 4)\n",
      "y = c(10, 100, 0    )\n",
      "z = x * y\n",
      "\n",
      "print(z)"
     ],
     "language": "python",
     "metadata": {},
     "outputs": [
      {
       "metadata": {},
       "output_type": "display_data",
       "text": [
        "[1]  10 200   0  40\n"
       ]
      }
     ],
     "prompt_number": 34
    },
    {
     "cell_type": "code",
     "collapsed": false,
     "input": [],
>>>>>>> 8029e87ef507738315868c029fb62a71942b2f9f
     "language": "python",
     "metadata": {},
     "outputs": [
      {
       "metadata": {},
       "output_type": "display_data",
       "text": [
        "[1] 11 12 13 14\n",
        "[1] 2 4 3 5\n"
       ]
      }
     ],
     "prompt_number": 20
    },
    {
     "cell_type": "markdown",
     "metadata": {},
     "source": [
      "We recycle the smaller vector"
     ]
    },
    {
     "cell_type": "heading",
     "level": 2,
     "metadata": {},
     "source": [
      "Applying"
     ]
    },
    {
     "cell_type": "code",
     "collapsed": false,
     "input": [
      "%%R\n",
      "\n",
      "x = sample(5)\n",
      "print(x)"
     ],
<<<<<<< HEAD
     "language": "python",
     "metadata": {},
     "outputs": [
      {
       "metadata": {},
       "output_type": "display_data",
       "text": [
        "[1] 1 5 4 3 2\n"
       ]
      }
     ],
     "prompt_number": 32
    },
    {
     "cell_type": "code",
     "collapsed": false,
     "input": [
      "%%R\n",
      "\n",
      "f = function(x) x^2"
     ],
     "language": "python",
     "metadata": {},
     "outputs": [],
     "prompt_number": 33
=======
     "language": "python",
     "metadata": {},
     "outputs": [
      {
       "metadata": {},
       "output_type": "display_data",
       "text": [
        "[1] 2 4 5 1 3\n"
       ]
      }
     ],
     "prompt_number": 35
    },
    {
     "cell_type": "code",
     "collapsed": false,
     "input": [
      "%%R\n",
      "\n",
      "f = function(x) x^x\n",
      "    "
     ],
     "language": "python",
     "metadata": {},
     "outputs": [],
     "prompt_number": 42
    },
    {
     "cell_type": "code",
     "collapsed": false,
     "input": [
      "%%R\n",
      "\n",
      "z = f(x)\n",
      "\n",
      "print(z)"
     ],
     "language": "python",
     "metadata": {},
     "outputs": [
      {
       "metadata": {},
       "output_type": "display_data",
       "text": [
        "[1]    4  256 3125    1   27\n"
       ]
      }
     ],
     "prompt_number": 43
    },
    {
     "cell_type": "code",
     "collapsed": false,
     "input": [
      "%%R\n",
      "\n",
      "g = function(x) c(x^x, x * x, x + x)\n",
      "\n"
     ],
     "language": "python",
     "metadata": {},
     "outputs": [],
     "prompt_number": 44
    },
    {
     "cell_type": "code",
     "collapsed": false,
     "input": [
      "%%R\n",
      "\n",
      "z = g(2)\n",
      "print(z)"
     ],
     "language": "python",
     "metadata": {},
     "outputs": [
      {
       "metadata": {},
       "output_type": "display_data",
       "text": [
        "[1] 4 4 4\n"
       ]
      }
     ],
     "prompt_number": 47
    },
    {
     "cell_type": "code",
     "collapsed": false,
     "input": [
      "%%R \n",
      "\n",
      "z = g(c(1, 2, 3))\n",
      "\n",
      "print(z)"
     ],
     "language": "python",
     "metadata": {},
     "outputs": [
      {
       "metadata": {},
       "output_type": "display_data",
       "text": [
        "[1]  1  4 27  1  4  9  2  4  6\n"
       ]
      }
     ],
     "prompt_number": 49
    },
    {
     "cell_type": "code",
     "collapsed": false,
     "input": [
      "%%R\n",
      "\n",
      "z = sapply(c(1,2,3), g)\n",
      "\n",
      "print(z)"
     ],
     "language": "python",
     "metadata": {},
     "outputs": [
      {
       "metadata": {},
       "output_type": "display_data",
       "text": [
        "     [,1] [,2] [,3]\n",
        "[1,]    1    4   27\n",
        "[2,]    1    4    9\n",
        "[3,]    2    4    6\n"
       ]
      }
     ],
     "prompt_number": 51
    },
    {
     "cell_type": "code",
     "collapsed": false,
     "input": [
      "%%R\n",
      "\n",
      "S = sum(z) \n",
      "\n",
      "print(S)\n",
      "\n"
     ],
     "language": "python",
     "metadata": {},
     "outputs": [
      {
       "metadata": {},
       "output_type": "display_data",
       "text": [
        "[1] 58\n"
       ]
      }
     ],
     "prompt_number": 52
>>>>>>> 8029e87ef507738315868c029fb62a71942b2f9f
    },
    {
     "cell_type": "code",
     "collapsed": false,
     "input": [
      "%%R\n",
      "\n",
<<<<<<< HEAD
      "z = f(3)\n",
      "print z"
=======
      "stdGrade = apply(z, 1, mean)\n",
      "\n",
      "print(stdGrade)"
>>>>>>> 8029e87ef507738315868c029fb62a71942b2f9f
     ],
     "language": "python",
     "metadata": {},
     "outputs": [
      {
<<<<<<< HEAD
       "output_type": "stream",
       "stream": "stdout",
       "text": [
        "\n",
        "Error while parsing the string.\n"
       ]
      }
     ],
     "prompt_number": 34
=======
       "metadata": {},
       "output_type": "display_data",
       "text": [
        "[1] 10.666667  4.666667  4.000000\n"
       ]
      }
     ],
     "prompt_number": 55
    },
    {
     "cell_type": "code",
     "collapsed": false,
     "input": [
      "%%R\n",
      "\n",
      "examAvg = apply(z, 2, mean)\n",
      "\n",
      "print(examAvg)"
     ],
     "language": "python",
     "metadata": {},
     "outputs": [
      {
       "metadata": {},
       "output_type": "display_data",
       "text": [
        "[1]  1.333333  4.000000 14.000000\n"
       ]
      }
     ],
     "prompt_number": 56
    },
    {
     "cell_type": "code",
     "collapsed": false,
     "input": [
      "%%R\n",
      "\n",
      "A = sample(27)\n",
      "dim(A) = c(3,3,3)\n",
      "\n",
      "print(A)"
     ],
     "language": "python",
     "metadata": {},
     "outputs": [
      {
       "metadata": {},
       "output_type": "display_data",
       "text": [
        ", , 1\n",
        "\n",
        "     [,1] [,2] [,3]\n",
        "[1,]   19    8   25\n",
        "[2,]   10   22   14\n",
        "[3,]    5   24    6\n",
        "\n",
        ", , 2\n",
        "\n",
        "     [,1] [,2] [,3]\n",
        "[1,]   27   16    1\n",
        "[2,]   13    2    9\n",
        "[3,]    3   18   21\n",
        "\n",
        ", , 3\n",
        "\n",
        "     [,1] [,2] [,3]\n",
        "[1,]   11   15   17\n",
        "[2,]   23   26    4\n",
        "[3,]   20    7   12\n",
        "\n"
       ]
      }
     ],
     "prompt_number": 57
    },
    {
     "cell_type": "code",
     "collapsed": false,
     "input": [
      "%%R\n",
      "\n",
      "Z = apply(A, 1, mean)\n",
      "\n",
      "print(Z)"
     ],
     "language": "python",
     "metadata": {},
     "outputs": [
      {
       "metadata": {},
       "output_type": "display_data",
       "text": [
        "[1] 15.44444 13.66667 12.88889\n"
       ]
      }
     ],
     "prompt_number": 60
>>>>>>> 8029e87ef507738315868c029fb62a71942b2f9f
    },
    {
     "cell_type": "heading",
     "level": 2,
     "metadata": {},
     "source": [
      "Simulating"
     ]
    },
    {
     "cell_type": "code",
     "collapsed": false,
     "input": [
      "%%R -r 86 -w 400 -h 300\n",
      "\n",
      "n = 81\n",
      "#x = rnorm(n, mean=50, sd=10)\n",
      "x = runif(n, min=0, max=100)\n",
      "#print(x)\n",
      "\n",
      "hist(x, xlim=c(-10, 110), ylim=c(0, n/2))"
     ],
     "language": "python",
     "metadata": {},
<<<<<<< HEAD
     "outputs": [],
     "prompt_number": 13
=======
     "outputs": [
      {
       "metadata": {},
       "output_type": "display_data",
       "png": "iVBORw0KGgoAAAANSUhEUgAAAZAAAAEsCAMAAADaaRXwAAAC9FBMVEUAAAABAQECAgIDAwMEBAQF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\nAElFTkSuQmCC\n"
      }
     ],
     "prompt_number": 280
    },
    {
     "cell_type": "code",
     "collapsed": false,
     "input": [
      "%%R\n",
      "\n",
      "x = round(x)\n",
      "dim(x) = c(9,9)\n",
      "print(x)\n"
     ],
     "language": "python",
     "metadata": {},
     "outputs": [
      {
       "metadata": {},
       "output_type": "display_data",
       "text": [
        "      [,1] [,2] [,3] [,4] [,5] [,6] [,7] [,8] [,9]\n",
        " [1,]   58   29   29   30   34   78   49   16   40\n",
        " [2,]   41   65   17    1    1   38    8   24   40\n",
        " [3,]   49   41   60   33   40   54   84   64   28\n",
        " [4,]   91   33   54    4   30   87   26   21   74\n",
        " [5,]   28   11   51   88   91   94   65    2   68\n",
        " [6,]   91   41   50   23   29   22   14   74   19\n",
        " [7,]   15   29   39   68   81   73   20   20    6\n",
        " [8,]   71    9    7    9   95    7   45   85   16\n",
        " [9,]   51   53   56   11   23   94   61   61   25\n"
       ]
      }
     ],
     "prompt_number": 282
    },
    {
     "cell_type": "code",
     "collapsed": false,
     "input": [
      "%%R\n",
      "\n",
      "exam = rnorm(10, mean = 70, sd=30)\n",
      "print(exam)"
     ],
     "language": "python",
     "metadata": {},
     "outputs": [
      {
       "metadata": {},
       "output_type": "display_data",
       "text": [
        " [1]  46.41281  12.48709  85.27709  67.67440  51.69012  43.94118  56.02645\n",
        " [8]  14.24480  52.94803 104.91452\n"
       ]
      }
     ],
     "prompt_number": 285
    },
    {
     "cell_type": "code",
     "collapsed": false,
     "input": [
      "%%R\n",
      "\n",
      "gradeBook = replicate(2, rnorm(10, mean=40, sd=79))\n",
      "\n",
      "print(gradeBook)"
     ],
     "language": "python",
     "metadata": {},
     "outputs": [
      {
       "metadata": {},
       "output_type": "display_data",
       "text": [
        "             [,1]        [,2]\n",
        " [1,]   28.045536   -3.067969\n",
        " [2,]  134.619287   22.228820\n",
        " [3,]   93.674670   24.769019\n",
        " [4,]   67.318250 -121.065588\n",
        " [5,]  -80.228689   37.217535\n",
        " [6,] -169.620782   90.604733\n",
        " [7,]   69.177760  -74.533917\n",
        " [8,]    3.464685   53.340418\n",
        " [9,]  -95.297423   23.155349\n",
        "[10,]  -45.939948  -28.437872\n"
       ]
      }
     ],
     "prompt_number": 295
>>>>>>> 8029e87ef507738315868c029fb62a71942b2f9f
    },
    {
     "cell_type": "heading",
     "level": 2,
     "metadata": {},
     "source": [
      "Linear algebra"
     ]
    },
    {
     "cell_type": "code",
     "collapsed": false,
     "input": [
      "%%R\n",
      "\n",
      "A = sample(25)\n",
      "dim(A) = c(5,5)\n",
      "print(A)\n"
     ],
     "language": "python",
     "metadata": {},
     "outputs": [
      {
       "metadata": {},
       "output_type": "display_data",
       "text": [
        "     [,1] [,2] [,3] [,4] [,5]\n",
        "[1,]   16    1   12   10   15\n",
        "[2,]   25    5   24    6   23\n",
        "[3,]   22    4   21   20    3\n",
        "[4,]   13   19    2   17   14\n",
        "[5,]    9   18    7    8   11\n"
       ]
      }
     ],
     "prompt_number": 296
    },
    {
     "cell_type": "code",
     "collapsed": false,
     "input": [
      "%%R\n",
      "\n",
      "B = sample(1:100, 5)\n",
      "dim(B) = c(5, 1)\n",
      "\n",
      "print(B)\n",
      "\n",
      "print(class(B))"
     ],
     "language": "python",
     "metadata": {},
     "outputs": [
      {
       "metadata": {},
       "output_type": "display_data",
       "text": [
        "     [,1]\n",
        "[1,]   61\n",
        "[2,]   14\n",
        "[3,]   40\n",
        "[4,]   26\n",
        "[5,]   59\n",
        "[1] \"matrix\"\n"
       ]
      }
     ],
     "prompt_number": 301
    },
    {
     "cell_type": "code",
     "collapsed": false,
     "input": [
      "%%R\n",
      "\n",
      "C = A %*% B\n",
      "\n",
      "print(C)"
     ],
     "language": "python",
     "metadata": {},
     "outputs": [
      {
       "metadata": {},
       "output_type": "display_data",
       "text": [
        "     [,1]\n",
        "[1,] 2615\n",
        "[2,] 4068\n",
        "[3,] 2935\n",
        "[4,] 2407\n",
        "[5,] 1938\n"
       ]
      }
     ],
     "prompt_number": 302
    },
    {
     "cell_type": "code",
     "collapsed": false,
     "input": [
      "%%R\n",
      "\n",
      "AInv = solve(A)\n",
      "\n",
      "print(AInv)"
     ],
     "language": "python",
     "metadata": {},
     "outputs": [
      {
       "metadata": {},
       "output_type": "display_data",
       "text": [
        "            [,1]        [,2]         [,3]        [,4]        [,5]\n",
        "[1,] -0.38605960  0.24576088  0.025903745  0.26749405 -0.33493037\n",
        "[2,] -0.09289631  0.03310123  0.005177141  0.02616350  0.02275417\n",
        "[3,]  0.18443250 -0.11088462  0.014809871 -0.18857060  0.21631070\n",
        "[4,]  0.22113789 -0.14909084  0.012104048 -0.09004979  0.12149145\n",
        "[5,]  0.18968540 -0.07625009 -0.047893066 -0.07618154  0.10169926\n"
       ]
      }
     ],
     "prompt_number": 303
    },
    {
     "cell_type": "code",
     "collapsed": false,
     "input": [
      "%%R\n",
      "\n",
      "D = A %*% AInv\n",
      "\n",
      "print(round(D))\n",
      "print(typeof(D[1,1]))"
     ],
     "language": "python",
     "metadata": {},
     "outputs": [
      {
       "metadata": {},
       "output_type": "display_data",
       "text": [
        "     [,1] [,2] [,3] [,4] [,5]\n",
        "[1,]    1    0    0    0    0\n",
        "[2,]    0    1    0    0    0\n",
        "[3,]    0    0    1    0    0\n",
        "[4,]    0    0    0    1    0\n",
        "[5,]    0    0    0    0    1\n",
        "[1] \"double\"\n"
       ]
      }
     ],
     "prompt_number": 306
    },
    {
     "cell_type": "code",
     "collapsed": false,
     "input": [
      "%%R\n",
      "\n",
      "d = det(A)\n",
      "print(d)"
     ],
     "language": "python",
     "metadata": {},
     "outputs": [
      {
       "metadata": {},
       "output_type": "display_data",
       "text": [
        "[1] 277180\n"
       ]
      }
     ],
     "prompt_number": 309
    },
    {
     "cell_type": "code",
     "collapsed": false,
     "input": [
      "\n"
     ],
     "language": "python",
     "metadata": {},
     "outputs": [],
     "prompt_number": 13
    }
   ],
   "metadata": {}
  }
 ]
}