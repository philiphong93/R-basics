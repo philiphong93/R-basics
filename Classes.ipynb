{
 "metadata": {
  "name": ""
 },
 "nbformat": 3,
 "nbformat_minor": 0,
 "worksheets": [
  {
   "cells": [
    {
     "cell_type": "heading",
     "level": 1,
     "metadata": {},
     "source": [
      "Classes"
     ]
    },
    {
     "cell_type": "markdown",
     "metadata": {},
     "source": [
      "**Definition:** A *class* is a collection of functions grouped together with the data these functions act upon (i.e. a collection of variables). In the context of classes, functions are no longer called function but *methods*, and variables are called *attributes*. "
     ]
    },
    {
     "cell_type": "heading",
     "level": 2,
     "metadata": {},
     "source": [
      "Lists"
     ]
    },
    {
     "cell_type": "code",
     "collapsed": false,
     "input": [
      "%load_ext rmagic"
     ],
     "language": "python",
     "metadata": {},
     "outputs": [
      {
       "output_type": "stream",
       "stream": "stdout",
       "text": [
        "The rmagic extension is already loaded. To reload it, use:\n",
        "  %reload_ext rmagic\n"
       ]
      }
     ],
     "prompt_number": 28
    },
    {
     "cell_type": "code",
     "collapsed": false,
     "input": [
      "%%R\n",
      "\n",
      "a = list(x1='Bob', x2=34, x3=list(1,2,3))\n",
      "\n",
      "print(a)"
     ],
     "language": "python",
     "metadata": {},
     "outputs": [
      {
       "metadata": {},
       "output_type": "display_data",
       "text": [
        "$x1\n",
        "[1] \"Bob\"\n",
        "\n",
        "$x2\n",
        "[1] 34\n",
        "\n",
        "$x3\n",
        "$x3[[1]]\n",
        "[1] 1\n",
        "\n",
        "$x3[[2]]\n",
        "[1] 2\n",
        "\n",
        "$x3[[3]]\n",
        "[1] 3\n",
        "\n",
        "\n"
       ]
      }
     ],
     "prompt_number": 29
    },
    {
     "cell_type": "heading",
     "level": 2,
     "metadata": {},
     "source": [
      "Subsetting"
     ]
    },
    {
     "cell_type": "markdown",
     "metadata": {},
     "source": [
      "See DataStructure notebook for lists"
     ]
    },
    {
     "cell_type": "heading",
     "level": 2,
     "metadata": {},
     "source": [
      "Applying"
     ]
    },
    {
     "cell_type": "markdown",
     "metadata": {},
     "source": [
      "For list, you have essentially two apply functions, 'sapply' (standing for 'simplifiy apply'), and 'lapply' (which stands for 'list apply)."
     ]
    },
    {
     "cell_type": "code",
     "collapsed": false,
     "input": [
      "%%R\n",
      "\n",
      "x = 1:10\n",
      "\n",
      "f = function(x) cat(sprintf('this is an iteration %d\\n', x))\n",
      "\n",
      "lapply(x, f)"
     ],
     "language": "python",
     "metadata": {},
     "outputs": [
      {
       "metadata": {},
       "output_type": "display_data",
       "text": [
        "this is an iteration 1\n",
        "this is an iteration 2\n",
        "this is an iteration 3\n",
        "this is an iteration 4\n",
        "this is an iteration 5\n",
        "this is an iteration 6\n",
        "this is an iteration 7\n",
        "this is an iteration 8\n",
        "this is an iteration 9\n",
        "this is an iteration 10\n"
       ]
      }
     ],
     "prompt_number": 30
    },
    {
     "cell_type": "markdown",
     "metadata": {},
     "source": [
      "Just a note on formatting"
     ]
    },
    {
     "cell_type": "code",
     "collapsed": false,
     "input": [
      "%%R\n",
      "\n",
      "print('hello\\n')\n",
      "cat('hello\\n')\n",
      "cat('end')"
     ],
     "language": "python",
     "metadata": {},
     "outputs": [
      {
       "metadata": {},
       "output_type": "display_data",
       "text": [
        "[1] \"hello\\n\"\n",
        "hello\n",
        "end"
       ]
      }
     ],
     "prompt_number": 31
    },
    {
     "cell_type": "heading",
     "level": 2,
     "metadata": {},
     "source": [
      "Classes and lists"
     ]
    },
    {
     "cell_type": "code",
     "collapsed": false,
     "input": [
      "%%R\n",
      "\n",
      "bob = list(Name = 'Bob Durant', Section = 'ECON', GPA = 5)\n",
      "\n",
      "print(class(bob))"
     ],
     "language": "python",
     "metadata": {},
     "outputs": [
      {
       "metadata": {},
       "output_type": "display_data",
       "text": [
        "[1] \"list\"\n"
       ]
      }
     ],
     "prompt_number": 32
    },
    {
     "cell_type": "heading",
     "level": 1,
     "metadata": {},
     "source": [
      "Defining a class object"
     ]
    },
    {
     "cell_type": "code",
     "collapsed": false,
     "input": [
      "%%R\n",
      "\n",
      "class(bob) = 'Student'"
     ],
     "language": "python",
     "metadata": {},
     "outputs": [],
     "prompt_number": 33
    },
    {
     "cell_type": "code",
     "collapsed": false,
     "input": [
      "%%R\n",
      "print(class(bob))"
     ],
     "language": "python",
     "metadata": {},
     "outputs": [
      {
       "metadata": {},
       "output_type": "display_data",
       "text": [
        "[1] \"Student\"\n"
       ]
      }
     ],
     "prompt_number": 34
    },
    {
     "cell_type": "heading",
     "level": 2,
     "metadata": {},
     "source": [
      "Class methods"
     ]
    },
    {
     "cell_type": "code",
     "collapsed": false,
     "input": [
      "%%R\n",
      "\n",
      "print(bob)\n",
      "print(bob$Name)"
     ],
     "language": "python",
     "metadata": {},
     "outputs": [
      {
       "metadata": {},
       "output_type": "display_data",
       "text": [
        "Name: Bob Durant\tSection: ECON\tGPA: 5.0\n",
        "[1] \"Bob Durant\"\n"
       ]
      }
     ],
     "prompt_number": 35
    },
    {
     "cell_type": "code",
     "collapsed": false,
     "input": [
      "%%R\n",
      "\n",
      "#The dot here has no meaning as in python, but just a convention.\n",
      "print.Student = function(object){\n",
      "    name = object$Name; section = object$Section; gpa = object$GPA\n",
      "    output = sprintf('Name: %s\\tSection: %s\\tGPA: %0.1f\\n', name, section, gpa)\n",
      "    cat(output)\n",
      "    }\n",
      "\n",
      "print(bob)"
     ],
     "language": "python",
     "metadata": {},
     "outputs": [
      {
       "metadata": {},
       "output_type": "display_data",
       "text": [
        "Name: Bob Durant\tSection: ECON\tGPA: 5.0\n"
       ]
      }
     ],
     "prompt_number": 36
    },
    {
     "cell_type": "markdown",
     "metadata": {},
     "source": [
      "A way to customize default/novel functions."
     ]
    },
    {
     "cell_type": "heading",
     "level": 2,
     "metadata": {},
     "source": [
      "Generic programming"
     ]
    },
    {
     "cell_type": "markdown",
     "metadata": {},
     "source": [
      "Writing your own generic function"
     ]
    },
    {
     "cell_type": "code",
     "collapsed": false,
     "input": [
      "%%R\n",
      "\n",
      "display = function(object) UseMethod('display', object)"
     ],
     "language": "python",
     "metadata": {},
     "outputs": [],
     "prompt_number": 37
    },
    {
     "cell_type": "code",
     "collapsed": false,
     "input": [
      "%%R\n",
      "\n",
      "display(bob)"
     ],
     "language": "python",
     "metadata": {},
     "outputs": [
      {
       "metadata": {},
       "output_type": "display_data",
       "text": [
        "[1] \"HELLO\"\n"
       ]
      }
     ],
     "prompt_number": 38
    },
    {
     "cell_type": "code",
     "collapsed": false,
     "input": [
      "%%R\n",
      "\n",
      "display.Student = function(object) print('HELLO')\n",
      "    \n",
      "display(bob)"
     ],
     "language": "python",
     "metadata": {},
     "outputs": [
      {
       "metadata": {},
       "output_type": "display_data",
       "text": [
        "[1] \"HELLO\"\n"
       ]
      }
     ],
     "prompt_number": 39
    },
    {
     "cell_type": "code",
     "collapsed": false,
     "input": [
      "%%R\n",
      "\n",
      "luc = list(Name = 'Luc Gourdot', Age = 34)\n",
      "class(luc) = 'Student'\n",
      "#The problem is that we implemented a method that supposes multiple\n",
      "#attributes luc doesn't have\n",
      "print(class(luc))"
     ],
     "language": "python",
     "metadata": {},
     "outputs": [
      {
       "metadata": {},
       "output_type": "display_data",
       "text": [
        "[1] \"Student\"\n"
       ]
      }
     ],
     "prompt_number": 40
    },
    {
     "cell_type": "code",
     "collapsed": false,
     "input": [
      "%%R\n",
      "\n",
      "print(luc)"
     ],
     "language": "python",
     "metadata": {},
     "outputs": [],
     "prompt_number": 41
    },
    {
     "cell_type": "markdown",
     "metadata": {},
     "source": [
      "Nothing is printed because luc doesn't have all the necessary attributes passed to print.Student\n",
      "Typically, you won't force the class as we have above.\n",
      "We'll use constructors to avoid the need for forcing classes"
     ]
    },
    {
     "cell_type": "heading",
     "level": 3,
     "metadata": {},
     "source": [
      "Constructor"
     ]
    },
    {
     "cell_type": "code",
     "collapsed": false,
     "input": [
      "%%R\n",
      "#we can put defaults if we want\n",
      "Student = function(name, section, gpa) {\n",
      "    object = list(Name = name, Section = section, GPA = gpa)\n",
      "    class(object) = 'Student' #forecully declare this object of that class\n",
      "    }"
     ],
     "language": "python",
     "metadata": {},
     "outputs": [],
     "prompt_number": 42
    },
    {
     "cell_type": "code",
     "collapsed": false,
     "input": [
      "%%R\n",
      "\n",
      "phil = Student('Phil', 'Bio', 3.3)\n",
      "print(phil)\n",
      "print(phil["
     ],
     "language": "python",
     "metadata": {},
     "outputs": [
      {
       "metadata": {},
       "output_type": "display_data",
       "text": [
        "[1] \"Student\"\n"
       ]
      }
     ],
     "prompt_number": 45
    },
    {
     "cell_type": "code",
     "collapsed": false,
     "input": [],
     "language": "python",
     "metadata": {},
     "outputs": []
    }
   ],
   "metadata": {}
  }
 ]
}